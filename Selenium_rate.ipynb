{
 "cells": [
  {
   "cell_type": "markdown",
   "id": "658012ec",
   "metadata": {},
   "source": [
    "瀏覽器驅動程式（WebDriver）\n",
    "Chrome：https://chromedriver.chromium.org/downloads\n",
    "Edge：https://developer.microsoft.com/en-us/microsoft-edge/tools/webdriver/\n",
    "Firefox：https://github.com/mozilla/geckodriver/releases\n",
    "Safari：https://webkit.org/blog/6900/webdriver-support-in-safari-10/"
   ]
  },
  {
   "cell_type": "code",
   "execution_count": null,
   "id": "431b7a45",
   "metadata": {
    "ExecuteTime": {
     "end_time": "2022-02-04T10:20:23.856247Z",
     "start_time": "2022-02-04T10:20:22.131632Z"
    }
   },
   "outputs": [],
   "source": [
    "from selenium import webdriver\n",
    "from bs4 import BeautifulSoup\n",
    "\n",
    "driver = webdriver.Chrome(executable_path='./chromedriver')\n",
    "driver.implicitly_wait(20)\n",
    "driver.get(url='https://bank.sinopac.com/mma8/bank/html/rate/bank_ExchangeRate.html')\n",
    "\n",
    "html_source = driver.page_source\n",
    "driver.quit()\n",
    "\n",
    "soup = BeautifulSoup(html_source, 'lxml')\n",
    "table = soup.select('table')[0]\n",
    "\n",
    "for tr in table.select('tr')[2:]:\n",
    "    print(tr.div.text)\n",
    "    for td in tr.select('.bwc10'):\n",
    "        print(td.text)"
   ]
  },
  {
   "cell_type": "markdown",
   "id": "24bff8e3",
   "metadata": {},
   "source": [
    "Selenium with Python 文件（中文版本）\n",
    "https://selenium-python-zh.readthedocs.io/en/latest/index.html"
   ]
  },
  {
   "cell_type": "code",
   "execution_count": null,
   "id": "62e48e8a",
   "metadata": {},
   "outputs": [],
   "source": [
    "from selenium import webdriver\n",
    "from bs4 import BeautifulSoup\n",
    "import time\n",
    "\n",
    "driver = webdriver.Chrome(executable_path='./chromedriver')\n",
    "driver.implicitly_wait(20)\n",
    "driver.get(url='https://bank.sinopac.com/mma8/bank/html/rate/bank_ExchangeRate.html#tab2')\n",
    "\n",
    "element = driver.find_element_by_xpath('//*[@id=\"SearchPair\"]/li[7]')\n",
    "driver.execute_script(\"arguments[0].click();\", element)\n",
    "\n",
    "driver.find_element_by_id(\"SearchDateBegin\").clear()\n",
    "driver.find_element_by_id(\"SearchDateBegin\").send_keys('2020/01/01')\n",
    "\n",
    "driver.find_element_by_id(\"SearchDateEnd\").clear()\n",
    "driver.find_element_by_id(\"SearchDateEnd\").send_keys('2020/02/01')\n",
    "\n",
    "driver.find_element_by_id(\"ETSListSearch\").click()\n",
    "\n",
    "driver.find_element_by_xpath('//*[@id=\"tab2\"]/div[2]/div[2]/ul/li[1]/a').click()\n",
    "\n",
    "time.sleep(3)\n",
    "\n",
    "html_source = driver.page_source\n",
    "soup = BeautifulSoup(html_source, 'lxml')\n",
    "\n",
    "table = soup.select('table#ETSListHist')[0]\n",
    "\n",
    "for tr in table.select('tr')[1:]:\n",
    "    for td in tr.select('td'):\n",
    "        print(td.text, end='｜')\n",
    "    print('')"
   ]
  }
 ],
 "metadata": {
  "kernelspec": {
   "display_name": "Python 3",
   "language": "python",
   "name": "python3"
  },
  "language_info": {
   "codemirror_mode": {
    "name": "ipython",
    "version": 3
   },
   "file_extension": ".py",
   "mimetype": "text/x-python",
   "name": "python",
   "nbconvert_exporter": "python",
   "pygments_lexer": "ipython3",
   "version": "3.8.8"
  },
  "toc": {
   "base_numbering": 1,
   "nav_menu": {},
   "number_sections": true,
   "sideBar": true,
   "skip_h1_title": false,
   "title_cell": "Table of Contents",
   "title_sidebar": "Contents",
   "toc_cell": false,
   "toc_position": {},
   "toc_section_display": true,
   "toc_window_display": false
  }
 },
 "nbformat": 4,
 "nbformat_minor": 5
}
