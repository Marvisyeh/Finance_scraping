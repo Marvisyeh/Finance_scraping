{
 "cells": [
  {
   "cell_type": "code",
   "execution_count": 1,
   "id": "e2782114",
   "metadata": {
    "ExecuteTime": {
     "end_time": "2022-02-04T14:02:21.987359Z",
     "start_time": "2022-02-04T14:02:05.165326Z"
    }
   },
   "outputs": [
    {
     "data": {
      "text/html": [
       "<div>\n",
       "<style scoped>\n",
       "    .dataframe tbody tr th:only-of-type {\n",
       "        vertical-align: middle;\n",
       "    }\n",
       "\n",
       "    .dataframe tbody tr th {\n",
       "        vertical-align: top;\n",
       "    }\n",
       "\n",
       "    .dataframe thead th {\n",
       "        text-align: right;\n",
       "    }\n",
       "</style>\n",
       "<table border=\"1\" class=\"dataframe\">\n",
       "  <thead>\n",
       "    <tr style=\"text-align: right;\">\n",
       "      <th></th>\n",
       "      <th>收盤價</th>\n",
       "      <th>開盤價</th>\n",
       "    </tr>\n",
       "  </thead>\n",
       "  <tbody>\n",
       "    <tr>\n",
       "      <th>0</th>\n",
       "      <td>42</td>\n",
       "      <td>43</td>\n",
       "    </tr>\n",
       "    <tr>\n",
       "      <th>1</th>\n",
       "      <td>43</td>\n",
       "      <td>44</td>\n",
       "    </tr>\n",
       "    <tr>\n",
       "      <th>2</th>\n",
       "      <td>42</td>\n",
       "      <td>43</td>\n",
       "    </tr>\n",
       "    <tr>\n",
       "      <th>3</th>\n",
       "      <td>44</td>\n",
       "      <td>45</td>\n",
       "    </tr>\n",
       "    <tr>\n",
       "      <th>4</th>\n",
       "      <td>45</td>\n",
       "      <td>46</td>\n",
       "    </tr>\n",
       "  </tbody>\n",
       "</table>\n",
       "</div>"
      ],
      "text/plain": [
       "   收盤價  開盤價\n",
       "0   42   43\n",
       "1   43   44\n",
       "2   42   43\n",
       "3   44   45\n",
       "4   45   46"
      ]
     },
     "execution_count": 1,
     "metadata": {},
     "output_type": "execute_result"
    }
   ],
   "source": [
    "import pandas as pd\n",
    "\n",
    "data = {\n",
    "    '收盤價': [42, 43, 42, 44, 45],\n",
    "    '開盤價': [43, 44, 43, 45, 46],\n",
    "}\n",
    "\n",
    "df = pd.DataFrame(data)\n",
    "\n",
    "df"
   ]
  },
  {
   "cell_type": "code",
   "execution_count": 2,
   "id": "df800e6f",
   "metadata": {
    "ExecuteTime": {
     "end_time": "2022-02-04T14:02:26.691345Z",
     "start_time": "2022-02-04T14:02:26.588104Z"
    }
   },
   "outputs": [
    {
     "data": {
      "text/plain": [
       "DatetimeIndex(['2020-03-01', '2020-03-02', '2020-03-03', '2020-03-04',\n",
       "               '2020-03-05'],\n",
       "              dtype='datetime64[ns]', freq='D')"
      ]
     },
     "execution_count": 2,
     "metadata": {},
     "output_type": "execute_result"
    }
   ],
   "source": [
    "date = pd.date_range('20200301', periods=5)\n",
    "date"
   ]
  },
  {
   "cell_type": "code",
   "execution_count": 3,
   "id": "620dd06c",
   "metadata": {
    "ExecuteTime": {
     "end_time": "2022-02-04T14:02:32.072406Z",
     "start_time": "2022-02-04T14:02:31.980142Z"
    }
   },
   "outputs": [
    {
     "data": {
      "text/html": [
       "<div>\n",
       "<style scoped>\n",
       "    .dataframe tbody tr th:only-of-type {\n",
       "        vertical-align: middle;\n",
       "    }\n",
       "\n",
       "    .dataframe tbody tr th {\n",
       "        vertical-align: top;\n",
       "    }\n",
       "\n",
       "    .dataframe thead th {\n",
       "        text-align: right;\n",
       "    }\n",
       "</style>\n",
       "<table border=\"1\" class=\"dataframe\">\n",
       "  <thead>\n",
       "    <tr style=\"text-align: right;\">\n",
       "      <th></th>\n",
       "      <th>收盤價</th>\n",
       "      <th>開盤價</th>\n",
       "    </tr>\n",
       "  </thead>\n",
       "  <tbody>\n",
       "    <tr>\n",
       "      <th>2020-03-01</th>\n",
       "      <td>42</td>\n",
       "      <td>43</td>\n",
       "    </tr>\n",
       "    <tr>\n",
       "      <th>2020-03-02</th>\n",
       "      <td>43</td>\n",
       "      <td>44</td>\n",
       "    </tr>\n",
       "    <tr>\n",
       "      <th>2020-03-03</th>\n",
       "      <td>42</td>\n",
       "      <td>43</td>\n",
       "    </tr>\n",
       "    <tr>\n",
       "      <th>2020-03-04</th>\n",
       "      <td>44</td>\n",
       "      <td>45</td>\n",
       "    </tr>\n",
       "    <tr>\n",
       "      <th>2020-03-05</th>\n",
       "      <td>45</td>\n",
       "      <td>46</td>\n",
       "    </tr>\n",
       "  </tbody>\n",
       "</table>\n",
       "</div>"
      ],
      "text/plain": [
       "            收盤價  開盤價\n",
       "2020-03-01   42   43\n",
       "2020-03-02   43   44\n",
       "2020-03-03   42   43\n",
       "2020-03-04   44   45\n",
       "2020-03-05   45   46"
      ]
     },
     "execution_count": 3,
     "metadata": {},
     "output_type": "execute_result"
    }
   ],
   "source": [
    "df.set_index(date, inplace=True)\n",
    "df"
   ]
  },
  {
   "cell_type": "code",
   "execution_count": 5,
   "id": "40d17ff1",
   "metadata": {
    "ExecuteTime": {
     "end_time": "2022-02-04T14:02:44.070385Z",
     "start_time": "2022-02-04T14:02:43.909587Z"
    }
   },
   "outputs": [
    {
     "name": "stdout",
     "output_type": "stream",
     "text": [
      "<class 'pandas.core.frame.DataFrame'>\n",
      "DatetimeIndex: 5 entries, 2020-03-01 to 2020-03-05\n",
      "Freq: D\n",
      "Data columns (total 2 columns):\n",
      " #   Column  Non-Null Count  Dtype\n",
      "---  ------  --------------  -----\n",
      " 0   收盤價     5 non-null      int64\n",
      " 1   開盤價     5 non-null      int64\n",
      "dtypes: int64(2)\n",
      "memory usage: 120.0 bytes\n"
     ]
    }
   ],
   "source": [
    "df.info()"
   ]
  },
  {
   "cell_type": "code",
   "execution_count": 6,
   "id": "71ff4570",
   "metadata": {
    "ExecuteTime": {
     "end_time": "2022-02-04T14:03:07.107485Z",
     "start_time": "2022-02-04T14:03:06.970282Z"
    }
   },
   "outputs": [
    {
     "data": {
      "text/plain": [
       "收盤價    42\n",
       "開盤價    43\n",
       "Name: 2020-03-01 00:00:00, dtype: int64"
      ]
     },
     "execution_count": 6,
     "metadata": {},
     "output_type": "execute_result"
    }
   ],
   "source": [
    "df.loc['20200301']"
   ]
  },
  {
   "cell_type": "code",
   "execution_count": 8,
   "id": "248c180b",
   "metadata": {
    "ExecuteTime": {
     "end_time": "2022-02-04T14:03:21.495284Z",
     "start_time": "2022-02-04T14:03:21.487301Z"
    }
   },
   "outputs": [
    {
     "data": {
      "text/plain": [
       "收盤價    42\n",
       "開盤價    43\n",
       "Name: 2020-03-01 00:00:00, dtype: int64"
      ]
     },
     "execution_count": 8,
     "metadata": {},
     "output_type": "execute_result"
    }
   ],
   "source": [
    "df.iloc[0]"
   ]
  },
  {
   "cell_type": "code",
   "execution_count": 9,
   "id": "daf66524",
   "metadata": {
    "ExecuteTime": {
     "end_time": "2022-02-04T14:03:44.343336Z",
     "start_time": "2022-02-04T14:03:44.246357Z"
    }
   },
   "outputs": [
    {
     "data": {
      "text/html": [
       "<div>\n",
       "<style scoped>\n",
       "    .dataframe tbody tr th:only-of-type {\n",
       "        vertical-align: middle;\n",
       "    }\n",
       "\n",
       "    .dataframe tbody tr th {\n",
       "        vertical-align: top;\n",
       "    }\n",
       "\n",
       "    .dataframe thead th {\n",
       "        text-align: right;\n",
       "    }\n",
       "</style>\n",
       "<table border=\"1\" class=\"dataframe\">\n",
       "  <thead>\n",
       "    <tr style=\"text-align: right;\">\n",
       "      <th></th>\n",
       "      <th>收盤價</th>\n",
       "      <th>開盤價</th>\n",
       "    </tr>\n",
       "  </thead>\n",
       "  <tbody>\n",
       "    <tr>\n",
       "      <th>2020-03-01</th>\n",
       "      <td>42</td>\n",
       "      <td>43</td>\n",
       "    </tr>\n",
       "    <tr>\n",
       "      <th>2020-03-02</th>\n",
       "      <td>43</td>\n",
       "      <td>44</td>\n",
       "    </tr>\n",
       "    <tr>\n",
       "      <th>2020-03-03</th>\n",
       "      <td>42</td>\n",
       "      <td>43</td>\n",
       "    </tr>\n",
       "  </tbody>\n",
       "</table>\n",
       "</div>"
      ],
      "text/plain": [
       "            收盤價  開盤價\n",
       "2020-03-01   42   43\n",
       "2020-03-02   43   44\n",
       "2020-03-03   42   43"
      ]
     },
     "execution_count": 9,
     "metadata": {},
     "output_type": "execute_result"
    }
   ],
   "source": [
    "df.loc['20200301':'20200303']"
   ]
  },
  {
   "cell_type": "code",
   "execution_count": 10,
   "id": "93824fa1",
   "metadata": {
    "ExecuteTime": {
     "end_time": "2022-02-04T14:03:52.825622Z",
     "start_time": "2022-02-04T14:03:52.814476Z"
    }
   },
   "outputs": [
    {
     "data": {
      "text/html": [
       "<div>\n",
       "<style scoped>\n",
       "    .dataframe tbody tr th:only-of-type {\n",
       "        vertical-align: middle;\n",
       "    }\n",
       "\n",
       "    .dataframe tbody tr th {\n",
       "        vertical-align: top;\n",
       "    }\n",
       "\n",
       "    .dataframe thead th {\n",
       "        text-align: right;\n",
       "    }\n",
       "</style>\n",
       "<table border=\"1\" class=\"dataframe\">\n",
       "  <thead>\n",
       "    <tr style=\"text-align: right;\">\n",
       "      <th></th>\n",
       "      <th>收盤價</th>\n",
       "      <th>開盤價</th>\n",
       "    </tr>\n",
       "  </thead>\n",
       "  <tbody>\n",
       "    <tr>\n",
       "      <th>2020-03-01</th>\n",
       "      <td>42</td>\n",
       "      <td>43</td>\n",
       "    </tr>\n",
       "    <tr>\n",
       "      <th>2020-03-02</th>\n",
       "      <td>43</td>\n",
       "      <td>44</td>\n",
       "    </tr>\n",
       "    <tr>\n",
       "      <th>2020-03-03</th>\n",
       "      <td>42</td>\n",
       "      <td>43</td>\n",
       "    </tr>\n",
       "  </tbody>\n",
       "</table>\n",
       "</div>"
      ],
      "text/plain": [
       "            收盤價  開盤價\n",
       "2020-03-01   42   43\n",
       "2020-03-02   43   44\n",
       "2020-03-03   42   43"
      ]
     },
     "execution_count": 10,
     "metadata": {},
     "output_type": "execute_result"
    }
   ],
   "source": [
    "df.iloc[0:3]"
   ]
  },
  {
   "cell_type": "code",
   "execution_count": 11,
   "id": "b7e8b795",
   "metadata": {
    "ExecuteTime": {
     "end_time": "2022-02-04T14:04:01.788397Z",
     "start_time": "2022-02-04T14:04:01.780308Z"
    }
   },
   "outputs": [
    {
     "data": {
      "text/plain": [
       "2020-03-01    42\n",
       "2020-03-02    43\n",
       "2020-03-03    42\n",
       "2020-03-04    44\n",
       "2020-03-05    45\n",
       "Freq: D, Name: 收盤價, dtype: int64"
      ]
     },
     "execution_count": 11,
     "metadata": {},
     "output_type": "execute_result"
    }
   ],
   "source": [
    "df['收盤價']"
   ]
  },
  {
   "cell_type": "code",
   "execution_count": 12,
   "id": "603790f6",
   "metadata": {
    "ExecuteTime": {
     "end_time": "2022-02-04T14:04:06.665282Z",
     "start_time": "2022-02-04T14:04:06.654000Z"
    }
   },
   "outputs": [
    {
     "data": {
      "text/plain": [
       "2020-03-01    42\n",
       "2020-03-02    43\n",
       "2020-03-03    42\n",
       "Freq: D, Name: 收盤價, dtype: int64"
      ]
     },
     "execution_count": 12,
     "metadata": {},
     "output_type": "execute_result"
    }
   ],
   "source": [
    "df['收盤價'].loc['20200301':'20200303']"
   ]
  },
  {
   "cell_type": "code",
   "execution_count": 13,
   "id": "befb4205",
   "metadata": {
    "ExecuteTime": {
     "end_time": "2022-02-04T14:04:14.325340Z",
     "start_time": "2022-02-04T14:04:13.915101Z"
    }
   },
   "outputs": [
    {
     "data": {
      "text/html": [
       "<div>\n",
       "<style scoped>\n",
       "    .dataframe tbody tr th:only-of-type {\n",
       "        vertical-align: middle;\n",
       "    }\n",
       "\n",
       "    .dataframe tbody tr th {\n",
       "        vertical-align: top;\n",
       "    }\n",
       "\n",
       "    .dataframe thead th {\n",
       "        text-align: right;\n",
       "    }\n",
       "</style>\n",
       "<table border=\"1\" class=\"dataframe\">\n",
       "  <thead>\n",
       "    <tr style=\"text-align: right;\">\n",
       "      <th></th>\n",
       "      <th>收盤價</th>\n",
       "      <th>開盤價</th>\n",
       "    </tr>\n",
       "  </thead>\n",
       "  <tbody>\n",
       "    <tr>\n",
       "      <th>2020-03-04</th>\n",
       "      <td>44</td>\n",
       "      <td>45</td>\n",
       "    </tr>\n",
       "    <tr>\n",
       "      <th>2020-03-05</th>\n",
       "      <td>45</td>\n",
       "      <td>46</td>\n",
       "    </tr>\n",
       "  </tbody>\n",
       "</table>\n",
       "</div>"
      ],
      "text/plain": [
       "            收盤價  開盤價\n",
       "2020-03-04   44   45\n",
       "2020-03-05   45   46"
      ]
     },
     "execution_count": 13,
     "metadata": {},
     "output_type": "execute_result"
    }
   ],
   "source": [
    "df[df['收盤價'] > 43]"
   ]
  },
  {
   "cell_type": "code",
   "execution_count": 14,
   "id": "270b3e84",
   "metadata": {
    "ExecuteTime": {
     "end_time": "2022-02-04T14:04:20.858486Z",
     "start_time": "2022-02-04T14:04:20.846068Z"
    }
   },
   "outputs": [
    {
     "data": {
      "text/html": [
       "<div>\n",
       "<style scoped>\n",
       "    .dataframe tbody tr th:only-of-type {\n",
       "        vertical-align: middle;\n",
       "    }\n",
       "\n",
       "    .dataframe tbody tr th {\n",
       "        vertical-align: top;\n",
       "    }\n",
       "\n",
       "    .dataframe thead th {\n",
       "        text-align: right;\n",
       "    }\n",
       "</style>\n",
       "<table border=\"1\" class=\"dataframe\">\n",
       "  <thead>\n",
       "    <tr style=\"text-align: right;\">\n",
       "      <th></th>\n",
       "      <th>收盤價</th>\n",
       "      <th>開盤價</th>\n",
       "    </tr>\n",
       "  </thead>\n",
       "  <tbody>\n",
       "    <tr>\n",
       "      <th>2020-03-04</th>\n",
       "      <td>44</td>\n",
       "      <td>45</td>\n",
       "    </tr>\n",
       "  </tbody>\n",
       "</table>\n",
       "</div>"
      ],
      "text/plain": [
       "            收盤價  開盤價\n",
       "2020-03-04   44   45"
      ]
     },
     "execution_count": 14,
     "metadata": {},
     "output_type": "execute_result"
    }
   ],
   "source": [
    "df[(df['收盤價'] > 43) & (df['收盤價'] < 45)]"
   ]
  },
  {
   "cell_type": "code",
   "execution_count": 15,
   "id": "9d606641",
   "metadata": {
    "ExecuteTime": {
     "end_time": "2022-02-04T14:04:26.986431Z",
     "start_time": "2022-02-04T14:04:26.971939Z"
    }
   },
   "outputs": [
    {
     "data": {
      "text/html": [
       "<div>\n",
       "<style scoped>\n",
       "    .dataframe tbody tr th:only-of-type {\n",
       "        vertical-align: middle;\n",
       "    }\n",
       "\n",
       "    .dataframe tbody tr th {\n",
       "        vertical-align: top;\n",
       "    }\n",
       "\n",
       "    .dataframe thead th {\n",
       "        text-align: right;\n",
       "    }\n",
       "</style>\n",
       "<table border=\"1\" class=\"dataframe\">\n",
       "  <thead>\n",
       "    <tr style=\"text-align: right;\">\n",
       "      <th></th>\n",
       "      <th>收盤價</th>\n",
       "      <th>開盤價</th>\n",
       "    </tr>\n",
       "  </thead>\n",
       "  <tbody>\n",
       "    <tr>\n",
       "      <th>2020-03-05</th>\n",
       "      <td>45</td>\n",
       "      <td>46</td>\n",
       "    </tr>\n",
       "    <tr>\n",
       "      <th>2020-03-04</th>\n",
       "      <td>44</td>\n",
       "      <td>45</td>\n",
       "    </tr>\n",
       "    <tr>\n",
       "      <th>2020-03-02</th>\n",
       "      <td>43</td>\n",
       "      <td>44</td>\n",
       "    </tr>\n",
       "    <tr>\n",
       "      <th>2020-03-01</th>\n",
       "      <td>42</td>\n",
       "      <td>43</td>\n",
       "    </tr>\n",
       "    <tr>\n",
       "      <th>2020-03-03</th>\n",
       "      <td>42</td>\n",
       "      <td>43</td>\n",
       "    </tr>\n",
       "  </tbody>\n",
       "</table>\n",
       "</div>"
      ],
      "text/plain": [
       "            收盤價  開盤價\n",
       "2020-03-05   45   46\n",
       "2020-03-04   44   45\n",
       "2020-03-02   43   44\n",
       "2020-03-01   42   43\n",
       "2020-03-03   42   43"
      ]
     },
     "execution_count": 15,
     "metadata": {},
     "output_type": "execute_result"
    }
   ],
   "source": [
    "df.sort_values('收盤價', ascending=False, inplace=True)\n",
    "df"
   ]
  },
  {
   "cell_type": "code",
   "execution_count": 16,
   "id": "ddf80a27",
   "metadata": {
    "ExecuteTime": {
     "end_time": "2022-02-04T14:04:34.608193Z",
     "start_time": "2022-02-04T14:04:34.599129Z"
    }
   },
   "outputs": [
    {
     "data": {
      "text/plain": [
       "收盤價    45\n",
       "開盤價    46\n",
       "dtype: int64"
      ]
     },
     "execution_count": 16,
     "metadata": {},
     "output_type": "execute_result"
    }
   ],
   "source": [
    "df.max()"
   ]
  },
  {
   "cell_type": "code",
   "execution_count": 17,
   "id": "dad14f62",
   "metadata": {
    "ExecuteTime": {
     "end_time": "2022-02-04T14:04:41.958603Z",
     "start_time": "2022-02-04T14:04:41.950043Z"
    }
   },
   "outputs": [
    {
     "data": {
      "text/plain": [
       "收盤價    42\n",
       "開盤價    43\n",
       "dtype: int64"
      ]
     },
     "execution_count": 17,
     "metadata": {},
     "output_type": "execute_result"
    }
   ],
   "source": [
    "df.min()"
   ]
  },
  {
   "cell_type": "code",
   "execution_count": null,
   "id": "e8878709",
   "metadata": {},
   "outputs": [],
   "source": []
  }
 ],
 "metadata": {
  "kernelspec": {
   "display_name": "Python 3",
   "language": "python",
   "name": "python3"
  },
  "language_info": {
   "codemirror_mode": {
    "name": "ipython",
    "version": 3
   },
   "file_extension": ".py",
   "mimetype": "text/x-python",
   "name": "python",
   "nbconvert_exporter": "python",
   "pygments_lexer": "ipython3",
   "version": "3.8.8"
  },
  "toc": {
   "base_numbering": 1,
   "nav_menu": {},
   "number_sections": true,
   "sideBar": true,
   "skip_h1_title": false,
   "title_cell": "Table of Contents",
   "title_sidebar": "Contents",
   "toc_cell": false,
   "toc_position": {},
   "toc_section_display": true,
   "toc_window_display": false
  }
 },
 "nbformat": 4,
 "nbformat_minor": 5
}
