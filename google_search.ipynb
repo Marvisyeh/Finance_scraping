{
 "cells": [
  {
   "cell_type": "code",
   "execution_count": 1,
   "id": "f9a012c7",
   "metadata": {
    "ExecuteTime": {
     "end_time": "2022-02-04T10:17:42.747173Z",
     "start_time": "2022-02-04T10:17:30.112063Z"
    }
   },
   "outputs": [
    {
     "name": "stdout",
     "output_type": "stream",
     "text": [
      "台灣水泥是台灣一家以水泥生產為主的礦業公司，始創於1946年5月，其歷史可追溯至日治時期。成立之初為公營事業，1954年11月民營化、由鹿港辜家接手經營，公司名稱表記也從「臺」轉以「台」為主。而台泥英文簡稱則用過「T'cement」。\n",
      "該公司在1962年股票上市、代碼1101，成為臺灣第一家上市公司。\n",
      "https://zh.wikipedia.org/zh-tw/%E5%8F%B0%E7%81%A3%E6%B0%B4%E6%B3%A5\n",
      "--------------------\n",
      "亞洲水泥，簡稱亞泥，為遠東集團旗下水泥企業，1957年3月21日成立，董事長為徐旭東。\n",
      "https://zh.wikipedia.org/zh-tw/%E4%BA%9E%E6%B4%B2%E6%B0%B4%E6%B3%A5\n",
      "--------------------\n",
      "嘉新水泥，簡稱嘉泥，台灣公司，以生產水泥為主，創立於1954年，創辦人為張敏鈺。為嘉新水泥集團核心公司，總部位於臺北市中山區中山北路二段96號嘉新大樓。\n",
      "https://zh.wikipedia.org/zh-tw/%E5%98%89%E6%96%B0%E6%B0%B4%E6%B3%A5\n",
      "--------------------\n"
     ]
    }
   ],
   "source": [
    "import requests, time\n",
    "from bs4 import BeautifulSoup\n",
    "from user_agent import generate_user_agent\n",
    "\n",
    "url = 'https://www.google.com/search'\n",
    "headers = {'User-Agent': generate_user_agent()}\n",
    "stock_id_list = ['1101', '1102', '1103']\n",
    "\n",
    "def get_stock_info(stock_id):\n",
    "    payload = {\n",
    "        'q': stock_id\n",
    "    }\n",
    "    \n",
    "    response = requests.get(url, params=payload, headers=headers)\n",
    "    response.raise_for_status()\n",
    "    \n",
    "    soup = BeautifulSoup(response.text, 'lxml')\n",
    "    \n",
    "    description = soup.select('div.kno-rdesc span')[0].text\n",
    "    link = soup.select('div.kno-rdesc a')[0].get('href')\n",
    "    \n",
    "    print(description)\n",
    "    print(link)\n",
    "    \n",
    "    \n",
    "for stock_id in stock_id_list:\n",
    "    \n",
    "    try:\n",
    "        get_stock_info(stock_id)\n",
    "    except Exception as err:\n",
    "        print('{}失敗：{}'.format(stock_id, err))\n",
    "        \n",
    "    print('-'*20)\n",
    "    time.sleep(3)"
   ]
  },
  {
   "cell_type": "code",
   "execution_count": null,
   "id": "6fa3f414",
   "metadata": {},
   "outputs": [],
   "source": []
  }
 ],
 "metadata": {
  "kernelspec": {
   "display_name": "Python 3",
   "language": "python",
   "name": "python3"
  },
  "language_info": {
   "codemirror_mode": {
    "name": "ipython",
    "version": 3
   },
   "file_extension": ".py",
   "mimetype": "text/x-python",
   "name": "python",
   "nbconvert_exporter": "python",
   "pygments_lexer": "ipython3",
   "version": "3.8.8"
  },
  "toc": {
   "base_numbering": 1,
   "nav_menu": {},
   "number_sections": true,
   "sideBar": true,
   "skip_h1_title": false,
   "title_cell": "Table of Contents",
   "title_sidebar": "Contents",
   "toc_cell": false,
   "toc_position": {},
   "toc_section_display": true,
   "toc_window_display": false
  }
 },
 "nbformat": 4,
 "nbformat_minor": 5
}
