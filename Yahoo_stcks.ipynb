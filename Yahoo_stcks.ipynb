{
 "cells": [
  {
   "cell_type": "code",
   "execution_count": 1,
   "id": "e85d7466",
   "metadata": {
    "ExecuteTime": {
     "end_time": "2022-02-04T09:39:34.240396Z",
     "start_time": "2022-02-04T09:39:33.423942Z"
    }
   },
   "outputs": [],
   "source": [
    "import requests\n",
    "from user_agent import generate_user_agent\n",
    "\n",
    "url = 'http://tw.stock.yahoo.com/q/q'\n",
    "payload = {'s' : '1101'}\n",
    "headers = {'User-Agent' : generate_user_agent()}\n",
    "\n",
    "res = requests.get(url, headers=headers, params=payload)"
   ]
  },
  {
   "cell_type": "code",
   "execution_count": null,
   "id": "d8ea0f70",
   "metadata": {
    "ExecuteTime": {
     "end_time": "2022-02-04T09:27:05.100376Z",
     "start_time": "2022-02-04T09:27:05.093988Z"
    }
   },
   "outputs": [],
   "source": [
    "# print('url : ', res.url)\n",
    "# print('user-agent : ', res.request.headers)\n",
    "# print('status_code : ', res.status_code)"
   ]
  },
  {
   "cell_type": "code",
   "execution_count": null,
   "id": "a5ba8cd6",
   "metadata": {
    "ExecuteTime": {
     "end_time": "2022-02-04T09:29:04.112683Z",
     "start_time": "2022-02-04T09:29:04.104687Z"
    }
   },
   "outputs": [],
   "source": [
    "# if res.status_code == 200:\n",
    "#     print('success')\n",
    "# else:\n",
    "#     print('status_code : ', res.status_code)"
   ]
  },
  {
   "cell_type": "code",
   "execution_count": null,
   "id": "aef3638a",
   "metadata": {
    "ExecuteTime": {
     "end_time": "2022-02-04T09:31:18.021394Z",
     "start_time": "2022-02-04T09:31:18.017133Z"
    }
   },
   "outputs": [],
   "source": [
    "# try:\n",
    "#     res.raise_for_status()\n",
    "# except Exception as e:\n",
    "#     print('失敗 : {}'.format(e))"
   ]
  },
  {
   "cell_type": "code",
   "execution_count": null,
   "id": "22776b2f",
   "metadata": {
    "ExecuteTime": {
     "end_time": "2022-02-04T09:33:02.181241Z",
     "start_time": "2022-02-04T09:33:02.172821Z"
    }
   },
   "outputs": [],
   "source": [
    "# print('Headers : ',res.headers)\n",
    "# print('Server : ', res.headers['Server'])\n",
    "# print('encoding : ', res.encoding)"
   ]
  },
  {
   "cell_type": "code",
   "execution_count": 3,
   "id": "9a9e05a6",
   "metadata": {
    "ExecuteTime": {
     "end_time": "2022-02-04T10:08:13.392431Z",
     "start_time": "2022-02-04T10:07:55.995601Z"
    },
    "collapsed": true
   },
   "outputs": [
    {
     "name": "stdout",
     "output_type": "stream",
     "text": [
      "1101台泥\n",
      "14:30\n",
      "47.20\n",
      "47.20\n",
      "47.25\n",
      "△0.35\n",
      "31,640\n",
      "46.85\n",
      "46.90\n",
      "47.50\n",
      "46.85\n",
      "--------------------\n",
      "1102亞泥\n",
      "11:20\n",
      "40.60\n",
      "40.60\n",
      "40.65\n",
      "▽0.45\n",
      "4,023\n",
      "41.05\n",
      "41.10\n",
      "41.15\n",
      "40.60\n",
      "--------------------\n",
      "1103嘉泥\n",
      "12:41\n",
      "21.05\n",
      "21.05\n",
      "21.10\n",
      "▽0.50\n",
      "3,667\n",
      "21.55\n",
      "21.60\n",
      "22.20\n",
      "20.95\n",
      "--------------------\n"
     ]
    }
   ],
   "source": [
    "from bs4 import BeautifulSoup\n",
    "import requests,time\n",
    "from user_agent import generate_user_agent\n",
    "\n",
    "url = 'https://web.archive.org/web/20210415122457/https://tw.stock.yahoo.com/q/q'\n",
    "headers = {'User-Agent' : generate_user_agent()}\n",
    "\n",
    "stockId_list = ['1101','1102','1103']\n",
    "\n",
    "def get_stock_price(stoclId_id):\n",
    "    payload = { 's' : stock_id }\n",
    "    \n",
    "    res = requests.get(url, params=payload, headers=headers)\n",
    "#     res.raise_for_status()\n",
    "    \n",
    "    soup = BeautifulSoup(res.text, 'lxml')\n",
    "    tables = soup.find_all('table')\n",
    "    table = tables[2]\n",
    "    \n",
    "#     ths = table.find_all('th')\n",
    "#     th = [th.text for th in ths[:-1]]\n",
    "    tds = table.find_all('td')\n",
    "    \n",
    "    for td in tds[:-1]:\n",
    "        print(td.text.strip().replace('加到投資組合',''))\n",
    "\n",
    "for stock_id in stockId_list:\n",
    "    \n",
    "    try:\n",
    "        get_stock_price(stock_id)\n",
    "    except Exception as err:\n",
    "        print('{}失敗：{}'.format(stock_id, err))\n",
    "      \n",
    "    print('-'*20)\n",
    "    time.sleep(3)\n",
    "    \n",
    "    "
   ]
  },
  {
   "cell_type": "code",
   "execution_count": 4,
   "id": "3a5fbb04",
   "metadata": {
    "ExecuteTime": {
     "end_time": "2022-02-04T10:10:19.612288Z",
     "start_time": "2022-02-04T10:10:08.877117Z"
    }
   },
   "outputs": [
    {
     "name": "stdout",
     "output_type": "stream",
     "text": [
      "股票代號 1101\n",
      "成交46.85\n",
      "開盤46.70\n",
      "最高47.00\n",
      "最低46.55\n",
      "均價46.83\n",
      "成交值(億)3.64\n",
      "昨收46.80\n",
      "漲跌幅0.11%\n",
      "漲跌0.05\n",
      "總量7,772\n",
      "昨量16,153\n",
      "振幅0.96%\n",
      "--------------------\n",
      "股票代號 1102\n",
      "成交44.20\n",
      "開盤44.15\n",
      "最高44.40\n",
      "最低44.15\n",
      "均價44.24\n",
      "成交值(億)1.46\n",
      "昨收44.15\n",
      "漲跌幅0.11%\n",
      "漲跌0.05\n",
      "總量3,297\n",
      "昨量6,487\n",
      "振幅0.57%\n",
      "--------------------\n",
      "股票代號 1103\n",
      "成交19.90\n",
      "開盤19.90\n",
      "最高20.00\n",
      "最低19.85\n",
      "均價19.93\n",
      "成交值(億)0.111\n",
      "昨收19.90\n",
      "漲跌幅0.00%\n",
      "漲跌0.00\n",
      "總量558\n",
      "昨量579\n",
      "振幅0.75%\n",
      "--------------------\n"
     ]
    }
   ],
   "source": [
    "from bs4 import BeautifulSoup\n",
    "import requests\n",
    "import time\n",
    "\n",
    "headers = {'user-agent': generate_user_agent()}\n",
    "stock_id_list = ['1101', '1102', '1103']\n",
    "\n",
    "def get_stock_price(stock_id):\n",
    "    \n",
    "    url = f'https://tw.stock.yahoo.com/quote/{stock_id}'\n",
    "    response = requests.get(url, headers=headers)\n",
    "    response.raise_for_status()\n",
    "    \n",
    "    soup = BeautifulSoup(response.text, 'lxml')\n",
    "    ul = soup.find('ul', {'class': 'D(f) Fld(c) Flw(w) H(192px) Mx(-16px)'})\n",
    "    \n",
    "    print('股票代號', stock_id)\n",
    "    for li in ul:\n",
    "        print(li.text)\n",
    "    \n",
    "for stock_id in stock_id_list:\n",
    "    \n",
    "    try:\n",
    "        get_stock_price(stock_id)\n",
    "    except Exception as err:\n",
    "        print('{}失敗：{}'.format(stock_id, err))\n",
    "      \n",
    "    print('-'*20)\n",
    "    time.sleep(3)\n",
    "    "
   ]
  },
  {
   "cell_type": "code",
   "execution_count": null,
   "id": "8c61982c",
   "metadata": {},
   "outputs": [],
   "source": []
  }
 ],
 "metadata": {
  "kernelspec": {
   "display_name": "Python 3",
   "language": "python",
   "name": "python3"
  },
  "language_info": {
   "codemirror_mode": {
    "name": "ipython",
    "version": 3
   },
   "file_extension": ".py",
   "mimetype": "text/x-python",
   "name": "python",
   "nbconvert_exporter": "python",
   "pygments_lexer": "ipython3",
   "version": "3.8.8"
  },
  "toc": {
   "base_numbering": 1,
   "nav_menu": {},
   "number_sections": true,
   "sideBar": true,
   "skip_h1_title": false,
   "title_cell": "Table of Contents",
   "title_sidebar": "Contents",
   "toc_cell": false,
   "toc_position": {},
   "toc_section_display": true,
   "toc_window_display": false
  }
 },
 "nbformat": 4,
 "nbformat_minor": 5
}
